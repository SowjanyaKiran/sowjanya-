{
  "nbformat": 4,
  "nbformat_minor": 0,
  "metadata": {
    "colab": {
      "provenance": [],
      "authorship_tag": "ABX9TyMlVPScNrWrfz21oW1oFFb/",
      "include_colab_link": true
    },
    "kernelspec": {
      "name": "python3",
      "display_name": "Python 3"
    },
    "language_info": {
      "name": "python"
    }
  },
  "cells": [
    {
      "cell_type": "markdown",
      "metadata": {
        "id": "view-in-github",
        "colab_type": "text"
      },
      "source": [
        "<a href=\"https://colab.research.google.com/github/SowjanyaKiran/sowjanya-/blob/main/PYTHON_PROGRAMMING_BASICS_ASSIGNMENT.ipynb\" target=\"_parent\"><img src=\"https://colab.research.google.com/assets/colab-badge.svg\" alt=\"Open In Colab\"/></a>"
      ]
    },
    {
      "cell_type": "markdown",
      "source": [
        "# **1.Variables in Python**"
      ],
      "metadata": {
        "id": "vyNzKSaX-5rj"
      }
    },
    {
      "cell_type": "code",
      "execution_count": null,
      "metadata": {
        "colab": {
          "base_uri": "https://localhost:8080/"
        },
        "id": "XSz9jm2JQ5YP",
        "outputId": "2d8d59f8-ec89-4c99-c576-4e7c37bd9ac5"
      },
      "outputs": [
        {
          "output_type": "stream",
          "name": "stdout",
          "text": [
            "x: 5 Type: <class 'int'>\n",
            "y: 10.5 Type: <class 'float'>\n",
            "z: Hello, Python! Type: <class 'str'>\n",
            "is_python_fun: True Type: <class 'bool'>\n"
          ]
        }
      ],
      "source": [
        "x = 5\n",
        "y = 10.5\n",
        "z = \"Hello, Python!\"\n",
        "is_python_fun = True\n",
        "\n",
        "# Printing the values and their types\n",
        "print(\"x:\", x, \"Type:\", type(x))\n",
        "print(\"y:\", y, \"Type:\", type(y))\n",
        "print(\"z:\", z, \"Type:\", type(z))\n",
        "print(\"is_python_fun:\", is_python_fun, \"Type:\", type(is_python_fun))"
      ]
    },
    {
      "cell_type": "code",
      "source": [
        "yeah = 'The Wise Old Owl'\n",
        "how = 'Wisdom comes from listening, observing, and learning.'\n",
        "sowjanya = True\n",
        "\n",
        "print(\"yeah:\", yeah)\n",
        "print(\"how:\", how)\n",
        "print(\"sowjanya:\",sowjanya)"
      ],
      "metadata": {
        "colab": {
          "base_uri": "https://localhost:8080/"
        },
        "id": "6kOVH6NPSAUx",
        "outputId": "0231be38-4f3d-45c2-8106-74d5a25cdc51"
      },
      "execution_count": 13,
      "outputs": [
        {
          "output_type": "stream",
          "name": "stdout",
          "text": [
            "yeah: The Wise Old Owl\n",
            "how: Wisdom comes from listening, observing, and learning.\n",
            "sowjanya: True\n"
          ]
        }
      ]
    },
    {
      "cell_type": "markdown",
      "source": [
        "# **2.Data Types and Operations**"
      ],
      "metadata": {
        "id": "eHJ15WrR-9lo"
      }
    },
    {
      "cell_type": "code",
      "source": [
        "s = 5\n",
        "r = 7\n",
        "print(\"addition:\", s + r)\n",
        "print(\"substraction:\", s - r)\n",
        "print(\"multiplication:\", s * r)\n",
        "print(\"division:\", s / r)\n",
        "print(\"modulus:\", s % r)\n",
        "print(\"floor division:\", s // r)\n",
        "print(\"Exponentiation:\", s ** r)"
      ],
      "metadata": {
        "id": "3DFnEeJVwuyk",
        "colab": {
          "base_uri": "https://localhost:8080/"
        },
        "outputId": "1b48b8a5-ca57-4e18-ae75-68ff53f19d38"
      },
      "execution_count": null,
      "outputs": [
        {
          "output_type": "stream",
          "name": "stdout",
          "text": [
            "addition: 12\n",
            "substraction: -2\n",
            "multiplication: 35\n",
            "division: 0.7142857142857143\n",
            "modulus: 5\n",
            "floor division: 0\n",
            "Exponentiation: 78125\n"
          ]
        }
      ]
    },
    {
      "cell_type": "markdown",
      "source": [
        "# **3.Strings and String Operations**"
      ],
      "metadata": {
        "id": "JnHU1foy_Doo"
      }
    },
    {
      "cell_type": "code",
      "source": [
        "string = \"Wisdom comes from listening more and speaking less.\"\n",
        "print(\"upper case:\" ,string.upper())\n",
        "print(\"lower case:\" ,string.lower())\n",
        "print(\"title case:\" ,string.title())\n",
        "print(\"Replac:\" ,string.replace(\"speaking less\",\"speaking less,\"))\n",
        "print(\"split:\" ,string.split())\n",
        "print(\"Concatenation:\", string + \"and observing everything carefully before taking action.\")\n",
        "print(\"Repetition:\", string * 2)\n"
      ],
      "metadata": {
        "colab": {
          "base_uri": "https://localhost:8080/"
        },
        "id": "f6gxURFs_b8Y",
        "outputId": "583f4e82-c90d-4915-d68c-09a3ffc1e2fd"
      },
      "execution_count": 11,
      "outputs": [
        {
          "output_type": "stream",
          "name": "stdout",
          "text": [
            "upper case: WISDOM COMES FROM LISTENING MORE AND SPEAKING LESS.\n",
            "lower case: wisdom comes from listening more and speaking less.\n",
            "title case: Wisdom Comes From Listening More And Speaking Less.\n",
            "Replac: Wisdom comes from listening more and speaking less,.\n",
            "split: ['Wisdom', 'comes', 'from', 'listening', 'more', 'and', 'speaking', 'less.']\n",
            "Concatenation: Wisdom comes from listening more and speaking less.and observing everything carefully before taking action.\n",
            "Repetition: Wisdom comes from listening more and speaking less.Wisdom comes from listening more and speaking less.\n"
          ]
        }
      ]
    },
    {
      "cell_type": "markdown",
      "source": [
        "# **4.Data Structures in Python**\n",
        "**Lists and its Operations**"
      ],
      "metadata": {
        "id": "qJaedrgJFGdR"
      }
    },
    {
      "cell_type": "code",
      "source": [
        "list = [1, 2, 3, 4, 5]\n",
        "print(\"Original List:\", list)\n",
        "list.append(6)\n",
        "print(\"After Append:\", list)\n",
        "list.remove(2)\n",
        "print(\"After Remove:\", list)\n",
        "list.insert(4, 99)\n",
        "print(\"After Insert:\", list)\n",
        "list.sort()\n",
        "print(\"Sorted List:\", list)"
      ],
      "metadata": {
        "colab": {
          "base_uri": "https://localhost:8080/"
        },
        "id": "0j1HiWiMFGKJ",
        "outputId": "0d55b55e-2e7f-4f19-d571-7fefd22177a9"
      },
      "execution_count": 10,
      "outputs": [
        {
          "output_type": "stream",
          "name": "stdout",
          "text": [
            "Original List: [1, 2, 3, 4, 5]\n",
            "After Append: [1, 2, 3, 4, 5, 6]\n",
            "After Remove: [1, 3, 4, 5, 6]\n",
            "After Insert: [1, 3, 4, 5, 99, 6]\n",
            "Sorted List: [1, 3, 4, 5, 6, 99]\n"
          ]
        }
      ]
    },
    {
      "cell_type": "markdown",
      "source": [
        "# **5.Tuples and its Operations(Immutable)**"
      ],
      "metadata": {
        "id": "FmkDq6bjFg1S"
      }
    },
    {
      "cell_type": "code",
      "source": [
        "tup = ('a' , 'b' ,'c ' , 'd' ,'e')\n",
        "print('Tuple:',tup)\n",
        "print ('First element :' , tup[1])\n",
        "print ('last element :' , tup[-1])"
      ],
      "metadata": {
        "colab": {
          "base_uri": "https://localhost:8080/"
        },
        "id": "oJSONSAXcnvh",
        "outputId": "4bc77ab0-9f19-4675-e9ac-c5f2c0c1b69f"
      },
      "execution_count": 20,
      "outputs": [
        {
          "output_type": "stream",
          "name": "stdout",
          "text": [
            "Tuple: ('a', 'b', 'c ', 'd', 'e')\n",
            "First element : b\n",
            "last element : e\n"
          ]
        }
      ]
    },
    {
      "cell_type": "code",
      "source": [
        "my_tuple = (10, 20, 30, 40, 50, 60)\n",
        "print(\"Tuple Elements:\", my_tuple)\n",
        "print(\"Accessing Element:\", my_tuple[5])"
      ],
      "metadata": {
        "colab": {
          "base_uri": "https://localhost:8080/"
        },
        "id": "GESjs8t4Fkiy",
        "outputId": "d6d12ba2-7a09-41eb-9331-a2e8b0d2fc6a"
      },
      "execution_count": null,
      "outputs": [
        {
          "output_type": "stream",
          "name": "stdout",
          "text": [
            "Tuple Elements: (10, 20, 30, 40, 50, 60)\n",
            "Accessing Element: 60\n"
          ]
        }
      ]
    },
    {
      "cell_type": "markdown",
      "source": [
        "# **6.Sets and its Operations (Unique Elements)**"
      ],
      "metadata": {
        "id": "3GlsHVppICTq"
      }
    },
    {
      "source": [
        "set = {1,2,3,4,5,6,7,8,9}\n",
        "print(\"original set:\" ,set)\n",
        "set.add(10)\n",
        "print(\"after add:\" ,set)\n",
        "set.remove(10)\n",
        "set.remove(9)\n",
        "print(\"after remove:\" ,set)"
      ],
      "cell_type": "code",
      "metadata": {
        "colab": {
          "base_uri": "https://localhost:8080/"
        },
        "id": "cR_eGL7AInny",
        "outputId": "2b37adb2-f00c-4d99-a9cd-73454ba3c34a"
      },
      "execution_count": null,
      "outputs": [
        {
          "output_type": "stream",
          "name": "stdout",
          "text": [
            "original set: {1, 2, 3, 4, 5, 6, 7, 8, 9}\n",
            "after add: {1, 2, 3, 4, 5, 6, 7, 8, 9, 10}\n",
            "after remove: {1, 2, 3, 4, 5, 6, 7, 8}\n"
          ]
        }
      ]
    },
    {
      "cell_type": "code",
      "source": [
        "set_dup = {1, 2, 3, 4, 5, 1, 2}"
      ],
      "metadata": {
        "id": "ty71SCN3KF9b"
      },
      "execution_count": null,
      "outputs": []
    },
    {
      "cell_type": "code",
      "source": [
        "set_dup"
      ],
      "metadata": {
        "colab": {
          "base_uri": "https://localhost:8080/"
        },
        "id": "xu3ZmbcvKSAn",
        "outputId": "35d6b33c-8573-44ee-942f-dd5fcc954239"
      },
      "execution_count": null,
      "outputs": [
        {
          "output_type": "execute_result",
          "data": {
            "text/plain": [
              "{1, 2, 3, 4, 5}"
            ]
          },
          "metadata": {},
          "execution_count": 16
        }
      ]
    },
    {
      "cell_type": "markdown",
      "source": [
        "# **7.Dictionary and its Operations (Key-Value Pairs)**"
      ],
      "metadata": {
        "id": "n8JQfQXqKV1T"
      }
    },
    {
      "source": [
        "my_dict = {\"name\" : \"sowjanya\" , \"age\" : \"26\" , \"designation\" : \"software engineer\" , \"place\" : \"mysore\"}\n",
        "print(\"Dictionary:\",my_dict)\n",
        "my_dict[\"age\"]=25\n",
        "print(\"After Update:\",my_dict)\n",
        "del my_dict[\"place\"]\n",
        "print(\"After Delete:\",my_dict)\n",
        "my_dict[\"place\"]=\"mysore\"\n",
        "print(\"After Update:\",my_dict)\n",
        "my_dict[\"state\"]=\"karnataka\"\n",
        "print(\"After Update:\",my_dict)"
      ],
      "cell_type": "code",
      "metadata": {
        "colab": {
          "base_uri": "https://localhost:8080/"
        },
        "id": "GDTRw7UOPNP8",
        "outputId": "da772084-b93c-4fb4-b790-7b554250c331"
      },
      "execution_count": 12,
      "outputs": [
        {
          "output_type": "stream",
          "name": "stdout",
          "text": [
            "Dictionary: {'name': 'sowjanya', 'age': '26', 'designation': 'software engineer', 'place': 'mysore'}\n",
            "After Update: {'name': 'sowjanya', 'age': 25, 'designation': 'software engineer', 'place': 'mysore'}\n",
            "After Delete: {'name': 'sowjanya', 'age': 25, 'designation': 'software engineer'}\n",
            "After Update: {'name': 'sowjanya', 'age': 25, 'designation': 'software engineer', 'place': 'mysore'}\n",
            "After Update: {'name': 'sowjanya', 'age': 25, 'designation': 'software engineer', 'place': 'mysore', 'state': 'karnataka'}\n"
          ]
        }
      ]
    },
    {
      "cell_type": "markdown",
      "source": [
        "# **8.Conditional Statements**"
      ],
      "metadata": {
        "id": "XlkczkHkPr8N"
      }
    },
    {
      "cell_type": "code",
      "source": [
        "a = 0\n",
        "if a > 0:\n",
        "  print('a is greater than 0')\n",
        "elif a < 0:\n",
        "  print('a is less than 0')\n",
        "else:\n",
        "  print('a is equal to 0')"
      ],
      "metadata": {
        "colab": {
          "base_uri": "https://localhost:8080/"
        },
        "id": "C46mr9vDbpAh",
        "outputId": "999eca7f-a437-4fc4-bf25-e742a3165b9b"
      },
      "execution_count": 14,
      "outputs": [
        {
          "output_type": "stream",
          "name": "stdout",
          "text": [
            "a is equal to 0\n"
          ]
        }
      ]
    },
    {
      "cell_type": "code",
      "source": [
        "num = 3\n",
        "if num > 0:\n",
        "  print(\"positive number\")\n",
        "elif num < 0:\n",
        "  print(\"negative number\")\n",
        "else:\n",
        "  print(\"zero\")"
      ],
      "metadata": {
        "colab": {
          "base_uri": "https://localhost:8080/"
        },
        "id": "aNrg1NpqPwet",
        "outputId": "2bede38d-58bb-4f13-d24a-0422df09bc46"
      },
      "execution_count": null,
      "outputs": [
        {
          "output_type": "stream",
          "name": "stdout",
          "text": [
            "positive number\n"
          ]
        }
      ]
    },
    {
      "cell_type": "code",
      "source": [
        "num = 4\n",
        "if num > 0:\n",
        "  print(\"positive number\")\n",
        "elif num < 0:\n",
        "  print(\"negative number\")\n",
        "else:\n",
        "  print(\"zero\")"
      ],
      "metadata": {
        "colab": {
          "base_uri": "https://localhost:8080/"
        },
        "id": "U6Fay9y8S6AU",
        "outputId": "200dc5cd-f645-4a2a-c9be-aa007666bb1f"
      },
      "execution_count": 6,
      "outputs": [
        {
          "output_type": "stream",
          "name": "stdout",
          "text": [
            "positive number\n"
          ]
        }
      ]
    },
    {
      "cell_type": "code",
      "source": [
        "def check_even_odd(num):\n",
        "  if num % 2 == 0:\n",
        "    return \"even\"\n",
        "  else:\n",
        "    return \"odd\"\n",
        "print(\"Number 88 is:\", check_even_odd(88))"
      ],
      "metadata": {
        "colab": {
          "base_uri": "https://localhost:8080/"
        },
        "id": "x5u1WdqTUdu-",
        "outputId": "1b5e51c9-5ada-4707-cfb6-08d4f3eb97d9"
      },
      "execution_count": 4,
      "outputs": [
        {
          "output_type": "stream",
          "name": "stdout",
          "text": [
            "Number 88 is: even\n"
          ]
        }
      ]
    },
    {
      "cell_type": "code",
      "source": [
        "def check_even_odd(num):\n",
        "  if num % 2 == 0:\n",
        "    return \"even\"\n",
        "  else:\n",
        "    return \"odd\"\n",
        "print(\"Number 77 is:\", check_even_odd(77))"
      ],
      "metadata": {
        "colab": {
          "base_uri": "https://localhost:8080/"
        },
        "id": "QDSovympSuMw",
        "outputId": "f49a255d-4427-4e1a-e00c-4f23eabc9b49"
      },
      "execution_count": 5,
      "outputs": [
        {
          "output_type": "stream",
          "name": "stdout",
          "text": [
            "Number 77 is: odd\n"
          ]
        }
      ]
    },
    {
      "cell_type": "markdown",
      "source": [
        "# **9.Loops in Python**"
      ],
      "metadata": {
        "id": "PriDr9b1VZ_3"
      }
    },
    {
      "cell_type": "code",
      "source": [
        "fruits = ['apple','banana','cherry']\n",
        "for x in fruits:\n",
        "  print(x)"
      ],
      "metadata": {
        "colab": {
          "base_uri": "https://localhost:8080/"
        },
        "id": "iMb38yXlbzmZ",
        "outputId": "909e2497-927d-410e-dc4c-4abb5cce4e9e"
      },
      "execution_count": 15,
      "outputs": [
        {
          "output_type": "stream",
          "name": "stdout",
          "text": [
            "apple\n",
            "banana\n",
            "cherry\n"
          ]
        }
      ]
    },
    {
      "source": [
        "print(\"For Loop Example:\")\n",
        "for i in range (1,10):\n",
        "  print(i)"
      ],
      "cell_type": "code",
      "metadata": {
        "colab": {
          "base_uri": "https://localhost:8080/"
        },
        "id": "FZwddu1sV50u",
        "outputId": "024df25d-0eba-4943-886c-34616fedead1"
      },
      "execution_count": null,
      "outputs": [
        {
          "output_type": "stream",
          "name": "stdout",
          "text": [
            "For Loop Example:\n",
            "1\n",
            "2\n",
            "3\n",
            "4\n",
            "5\n",
            "6\n",
            "7\n",
            "8\n",
            "9\n"
          ]
        }
      ]
    },
    {
      "cell_type": "code",
      "source": [
        "var = 10\n",
        "while var > 0:\n",
        "  print('Current variable value :',var)\n",
        "  var = var - 1\n",
        "  if var == 4:\n",
        "    break\n",
        "print('Good bye!')"
      ],
      "metadata": {
        "colab": {
          "base_uri": "https://localhost:8080/"
        },
        "id": "rjAyFD01b9Bw",
        "outputId": "3cf4c339-1774-418d-d6dc-efb274df8535"
      },
      "execution_count": 16,
      "outputs": [
        {
          "output_type": "stream",
          "name": "stdout",
          "text": [
            "Current variable value : 10\n",
            "Current variable value : 9\n",
            "Current variable value : 8\n",
            "Current variable value : 7\n",
            "Current variable value : 6\n",
            "Current variable value : 5\n",
            "Good bye!\n"
          ]
        }
      ]
    },
    {
      "cell_type": "code",
      "source": [
        "print(\"while loop example:\")\n",
        "count=0\n",
        "while count < 4:\n",
        "  print(count)\n",
        "  count+=1\n"
      ],
      "metadata": {
        "colab": {
          "base_uri": "https://localhost:8080/"
        },
        "id": "JuMEzMqNYDUP",
        "outputId": "aeb274df-1258-43dd-edeb-3c8d64977d4a"
      },
      "execution_count": null,
      "outputs": [
        {
          "output_type": "stream",
          "name": "stdout",
          "text": [
            "while loop example:\n",
            "0\n",
            "1\n",
            "2\n",
            "3\n"
          ]
        }
      ]
    },
    {
      "cell_type": "markdown",
      "source": [
        "# **10.User-Defined Functions**"
      ],
      "metadata": {
        "id": "SkdWNKwnZ--3"
      }
    },
    {
      "cell_type": "code",
      "source": [
        "def greet(name):\n",
        "  return \"hello,\" + name + \"!\"\n",
        "print(greet(\"sowjanya\"))"
      ],
      "metadata": {
        "colab": {
          "base_uri": "https://localhost:8080/"
        },
        "id": "UVlbP08wZ7so",
        "outputId": "8554f2c0-025f-42ba-f1eb-9dbf6800df1e"
      },
      "execution_count": null,
      "outputs": [
        {
          "output_type": "stream",
          "name": "stdout",
          "text": [
            "hello,sowjanya!\n"
          ]
        }
      ]
    },
    {
      "cell_type": "code",
      "source": [
        "def power(base,exp=2):\n",
        "  return base ** exp\n",
        "print(\"Power Function Example:\", power(10))"
      ],
      "metadata": {
        "colab": {
          "base_uri": "https://localhost:8080/"
        },
        "id": "RBkRHPpQayty",
        "outputId": "4f5a4d4e-b3c9-4b0f-9f88-aa47728a9dd5"
      },
      "execution_count": null,
      "outputs": [
        {
          "output_type": "stream",
          "name": "stdout",
          "text": [
            "Power Function Example: 100\n"
          ]
        }
      ]
    },
    {
      "cell_type": "markdown",
      "source": [
        "# **11.Lambda Functions**"
      ],
      "metadata": {
        "id": "_D_u7hJebLWJ"
      }
    },
    {
      "cell_type": "code",
      "source": [
        "x = lambda a : a + 10\n",
        "print(x(5))\n",
        "y = lambda a, b: a * b\n",
        "print(y(5 , 6))\n",
        "z = lambda a , b, c : a*b+c\n",
        "print(z(5 , 6, 3))"
      ],
      "metadata": {
        "colab": {
          "base_uri": "https://localhost:8080/"
        },
        "id": "D-UVhXSUcFCZ",
        "outputId": "a592113f-4a54-43e0-e099-2578d5200eb1"
      },
      "execution_count": 17,
      "outputs": [
        {
          "output_type": "stream",
          "name": "stdout",
          "text": [
            "15\n",
            "30\n",
            "33\n"
          ]
        }
      ]
    },
    {
      "cell_type": "code",
      "source": [
        "times_two = lambda x : x * 2\n",
        "print(\"sum using lambda:\",times_two(5))"
      ],
      "metadata": {
        "colab": {
          "base_uri": "https://localhost:8080/"
        },
        "id": "IaiSuzwJbNuY",
        "outputId": "40491bd1-34d2-48a5-dd76-6490130f0d87"
      },
      "execution_count": null,
      "outputs": [
        {
          "output_type": "stream",
          "name": "stdout",
          "text": [
            "sum using lambda: 10\n"
          ]
        }
      ]
    },
    {
      "cell_type": "markdown",
      "source": [
        "# **12.String Operations**"
      ],
      "metadata": {
        "id": "Mz1yGLtobqcq"
      }
    },
    {
      "cell_type": "code",
      "source": [
        "message = \"Once upon a time, in a quiet forest, there lived an old owl. He sat on a tall tree, observing everything around him. He rarely spoke but listened carefully to everything the animals said.One day, a young rabbit ran up to him, complaining about how unfair life was.I always get caught by hunters, while the foxes and deer escape! he cried.The owl listened patiently and then said, Instead of complaining, observe and learn. The deer runs fast, and the fox is clever. Use your strengths wisely.The rabbit took the owl’s advice and started paying attention. He learned new ways to hide, run in zigzags, and escape danger. Soon, he became one of the smartest animals in the forest.\"\n",
        "print(\"Substring Check:\", \"Once upon a time\" in message)\n",
        "print(\"String Slice:\", message[3:36])\n",
        "print(\"String Reverse:\", message[::-1])"
      ],
      "metadata": {
        "colab": {
          "base_uri": "https://localhost:8080/"
        },
        "id": "5oXWLUltbs7B",
        "outputId": "7ef92f55-6604-43e0-c59b-939bb330511d"
      },
      "execution_count": 9,
      "outputs": [
        {
          "output_type": "stream",
          "name": "stdout",
          "text": [
            "Substring Check: True\n",
            "String Slice: e upon a time, in a quiet forest,\n",
            "String Reverse: .tserof eht ni slamina tsetrams eht fo eno emaceb eh ,nooS .regnad epacse dna ,sgazgiz ni nur ,edih ot syaw wen denrael eH .noitnetta gniyap detrats dna ecivda s’lwo eht koot tibbar ehT.ylesiw shtgnerts ruoy esU .revelc si xof eht dna ,tsaf snur reed ehT .nrael dna evresbo ,gninialpmoc fo daetsnI ,dias neht dna yltneitap denetsil lwo ehT.deirc eh !epacse reed dna sexof eht elihw ,sretnuh yb thguac teg syawla I.saw efil riafnu woh tuoba gninialpmoc ,mih ot pu nar tibbar gnuoy a ,yad enO.dias slamina eht gnihtyreve ot ylluferac denetsil tub ekops ylerar eH .mih dnuora gnihtyreve gnivresbo ,eert llat a no tas eH .lwo dlo na devil ereht ,tserof teiuq a ni ,emit a nopu ecnO\n"
          ]
        }
      ]
    }
  ]
}